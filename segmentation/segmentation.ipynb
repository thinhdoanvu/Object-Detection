{
  "nbformat": 4,
  "nbformat_minor": 0,
  "metadata": {
    "colab": {
      "provenance": []
    },
    "kernelspec": {
      "name": "python3",
      "display_name": "Python 3"
    },
    "language_info": {
      "name": "python"
    }
  },
  "cells": [
    {
      "cell_type": "markdown",
      "source": [
        "# Mount to drive"
      ],
      "metadata": {
        "id": "QdhDvtklooI8"
      }
    },
    {
      "cell_type": "code",
      "execution_count": null,
      "metadata": {
        "colab": {
          "base_uri": "https://localhost:8080/"
        },
        "id": "vtqVoGzoolAy",
        "outputId": "1ea234d3-319d-4e5b-eef6-e6de521ee7b5"
      },
      "outputs": [
        {
          "output_type": "stream",
          "name": "stdout",
          "text": [
            "Mounted at /content/drive\n"
          ]
        }
      ],
      "source": [
        "from google.colab import drive\n",
        "drive.mount('/content/drive')"
      ]
    },
    {
      "cell_type": "markdown",
      "source": [
        "# Chuẩn bị data\n",
        "## Export data\n",
        "    Supervisely.com - Export as mask\n",
        "## Copy to Drive\n",
        "    Folder img: copy *jpg -> train/dataset/images\n",
        "    Folder mask_machine: copy *png -> train/dataset/groundtruth\n",
        "    Make test.txt in train/dataset/images\n",
        "    2022-08-16-BF2-D32-GS-1M-25M-0094\n",
        "    2022-08-16-BF2-D32-GS-1M-25M-0095\n",
        "    2022-08-16-BF2-D32-GS-1M-25M-0096\n",
        "    2022-08-16-BF2-D32-GS-1M-25M-0097\n",
        "    2022-08-16-BF2-D32-GS-1M-25M-0098\n",
        "    2022-08-16-BF2-D32-GS-1M-25M-0099\n",
        "    2022-08-16-BF2-D32-GS-1M-25M-0100\n",
        "    2022-08-16-BF2-D32-GS-1M-25M-0101\n",
        "    2022-08-16-BF2-D32-GS-1M-25M-0102\n",
        "    2022-08-16-BF2-D32-GS-1M-25M-0103\n",
        "### Visualization: unnecessary!\n"
      ],
      "metadata": {
        "id": "33UIneog1yDu"
      }
    },
    {
      "cell_type": "code",
      "source": [
        "%%bash\n",
        "cd /content/drive/MyDrive/DemHongCau/segmentation/"
      ],
      "metadata": {
        "id": "wlJ_3WX_o7sD"
      },
      "execution_count": null,
      "outputs": []
    },
    {
      "cell_type": "markdown",
      "source": [
        "Install PyPI version"
      ],
      "metadata": {
        "id": "9nD6CvYlpIdu"
      }
    },
    {
      "cell_type": "code",
      "source": [
        "!pip install git+https://github.com/qubvel/segmentation_models.pytorch"
      ],
      "metadata": {
        "id": "wzIb-u0spH3L"
      },
      "execution_count": null,
      "outputs": []
    },
    {
      "cell_type": "markdown",
      "source": [
        "Install requirements"
      ],
      "metadata": {
        "id": "ZV4pag4uuCNd"
      }
    },
    {
      "cell_type": "code",
      "source": [
        "%cd /content/drive/MyDrive/DemHongCau/segmentation/train/\n",
        "%pip install -r requirements.txt"
      ],
      "metadata": {
        "colab": {
          "base_uri": "https://localhost:8080/"
        },
        "id": "MPtOxk95uFFa",
        "outputId": "9b17b674-b687-47c1-abf9-92eadae9c928"
      },
      "execution_count": null,
      "outputs": [
        {
          "output_type": "stream",
          "name": "stdout",
          "text": [
            "/content/drive/MyDrive/DemHongCau/segmentation/train\n",
            "Collecting absl-py==0.10.0 (from -r requirements.txt (line 1))\n",
            "  Downloading absl_py-0.10.0-py3-none-any.whl (127 kB)\n",
            "\u001b[2K     \u001b[90m━━━━━━━━━━━━━━━━━━━━━━━━━━━━━━━━━━━━━━━━\u001b[0m \u001b[32m127.5/127.5 kB\u001b[0m \u001b[31m1.3 MB/s\u001b[0m eta \u001b[36m0:00:00\u001b[0m\n",
            "\u001b[?25hCollecting addict==2.4.0 (from -r requirements.txt (line 2))\n",
            "  Downloading addict-2.4.0-py3-none-any.whl (3.8 kB)\n",
            "Collecting argon2-cffi==20.1.0 (from -r requirements.txt (line 3))\n",
            "  Downloading argon2_cffi-20.1.0-cp35-abi3-manylinux1_x86_64.whl (97 kB)\n",
            "\u001b[2K     \u001b[90m━━━━━━━━━━━━━━━━━━━━━━━━━━━━━━━━━━━━━━━━\u001b[0m \u001b[32m98.0/98.0 kB\u001b[0m \u001b[31m7.7 MB/s\u001b[0m eta \u001b[36m0:00:00\u001b[0m\n",
            "\u001b[?25hCollecting astor==0.8.1 (from -r requirements.txt (line 4))\n",
            "  Downloading astor-0.8.1-py2.py3-none-any.whl (27 kB)\n",
            "Collecting async-generator==1.10 (from -r requirements.txt (line 5))\n",
            "  Downloading async_generator-1.10-py3-none-any.whl (18 kB)\n",
            "Collecting attrs==20.2.0 (from -r requirements.txt (line 6))\n",
            "  Downloading attrs-20.2.0-py2.py3-none-any.whl (48 kB)\n",
            "\u001b[2K     \u001b[90m━━━━━━━━━━━━━━━━━━━━━━━━━━━━━━━━━━━━━━━━\u001b[0m \u001b[32m48.1/48.1 kB\u001b[0m \u001b[31m4.5 MB/s\u001b[0m eta \u001b[36m0:00:00\u001b[0m\n",
            "\u001b[?25hRequirement already satisfied: backcall==0.2.0 in /usr/local/lib/python3.10/dist-packages (from -r requirements.txt (line 7)) (0.2.0)\n",
            "Collecting bleach==3.2.1 (from -r requirements.txt (line 8))\n",
            "  Downloading bleach-3.2.1-py2.py3-none-any.whl (145 kB)\n",
            "\u001b[2K     \u001b[90m━━━━━━━━━━━━━━━━━━━━━━━━━━━━━━━━━━━━━━━━\u001b[0m \u001b[32m146.0/146.0 kB\u001b[0m \u001b[31m7.3 MB/s\u001b[0m eta \u001b[36m0:00:00\u001b[0m\n",
            "\u001b[?25hCollecting cachetools==4.1.1 (from -r requirements.txt (line 9))\n",
            "  Downloading cachetools-4.1.1-py3-none-any.whl (10 kB)\n",
            "Collecting certifi==2020.6.20 (from -r requirements.txt (line 10))\n",
            "  Downloading certifi-2020.6.20-py2.py3-none-any.whl (156 kB)\n",
            "\u001b[2K     \u001b[90m━━━━━━━━━━━━━━━━━━━━━━━━━━━━━━━━━━━━━━━━\u001b[0m \u001b[32m156.6/156.6 kB\u001b[0m \u001b[31m6.0 MB/s\u001b[0m eta \u001b[36m0:00:00\u001b[0m\n",
            "\u001b[?25hCollecting cffi==1.14.3 (from -r requirements.txt (line 11))\n",
            "  Downloading cffi-1.14.3.tar.gz (470 kB)\n",
            "\u001b[2K     \u001b[90m━━━━━━━━━━━━━━━━━━━━━━━━━━━━━━━━━━━━━━━━\u001b[0m \u001b[32m470.8/470.8 kB\u001b[0m \u001b[31m8.5 MB/s\u001b[0m eta \u001b[36m0:00:00\u001b[0m\n",
            "\u001b[?25h  Preparing metadata (setup.py) ... \u001b[?25l\u001b[?25hdone\n",
            "Collecting chardet==3.0.4 (from -r requirements.txt (line 12))\n",
            "  Downloading chardet-3.0.4-py2.py3-none-any.whl (133 kB)\n",
            "\u001b[2K     \u001b[90m━━━━━━━━━━━━━━━━━━━━━━━━━━━━━━━━━━━━━━━━\u001b[0m \u001b[32m133.4/133.4 kB\u001b[0m \u001b[31m11.2 MB/s\u001b[0m eta \u001b[36m0:00:00\u001b[0m\n",
            "\u001b[?25hCollecting configobj==5.0.6 (from -r requirements.txt (line 13))\n",
            "  Downloading configobj-5.0.6.tar.gz (33 kB)\n",
            "  Preparing metadata (setup.py) ... \u001b[?25l\u001b[?25hdone\n",
            "Collecting cycler==0.10.0 (from -r requirements.txt (line 14))\n",
            "  Downloading cycler-0.10.0-py2.py3-none-any.whl (6.5 kB)\n",
            "\u001b[31mERROR: Ignored the following versions that require a different python version: 0.7 Requires-Python >=3.6, <3.7; 0.8 Requires-Python >=3.6, <3.7\u001b[0m\u001b[31m\n",
            "\u001b[0m\u001b[31mERROR: Could not find a version that satisfies the requirement dataclasses==0.8 (from versions: 0.1, 0.2, 0.3, 0.4, 0.5, 0.6)\u001b[0m\u001b[31m\n",
            "\u001b[0m\u001b[31mERROR: No matching distribution found for dataclasses==0.8\u001b[0m\u001b[31m\n",
            "\u001b[0m"
          ]
        }
      ]
    },
    {
      "cell_type": "markdown",
      "source": [
        "# Lưu ý: train.py cần chỉnh sửa số lớp\n",
        "\n",
        "#### 3. Create a segmentation model\n",
        "    import segmentation_models_pytorch as smp\n",
        "    model = smp.Unet(encoder_name='resnet18', in_channels=3, classes=2).to(device)\n",
        "    #hongcau + nen (khong can danh dau): classes=2"
      ],
      "metadata": {
        "id": "84fwPu1RzAmn"
      }
    },
    {
      "cell_type": "markdown",
      "source": [
        "# make folder checkpoint to save iou value after training\n",
        "    Không cần lưu bất kỳ file gì vào đây, khi train tự có giá trị"
      ],
      "metadata": {
        "id": "5fyVfDxr31cP"
      }
    },
    {
      "cell_type": "markdown",
      "source": [
        "# tạo folder utils\n",
        "    Copy 3 files: visualize_dataset.py, metrics.py, lane_datasets.py"
      ],
      "metadata": {
        "id": "0-gT8HfV4FB5"
      }
    },
    {
      "cell_type": "markdown",
      "source": [
        "# Edit lane_dataset.py\n",
        "\n",
        "line 53: gt = Image.open(self.data_path + '/groundtruth/' + filename + '.png')\n",
        "\n",
        "**Bỏ: _lane**"
      ],
      "metadata": {
        "id": "hMwyGvbtyWDv"
      }
    },
    {
      "cell_type": "markdown",
      "source": [
        "# Train"
      ],
      "metadata": {
        "id": "hNIAf7GOunZa"
      }
    },
    {
      "cell_type": "code",
      "source": [
        "!python train.py"
      ],
      "metadata": {
        "colab": {
          "base_uri": "https://localhost:8080/"
        },
        "id": "qTKCJXRSuoj7",
        "outputId": "cec37d39-e62a-4a03-ffbc-8fcae6d1016f"
      },
      "execution_count": null,
      "outputs": [
        {
          "output_type": "stream",
          "name": "stdout",
          "text": [
            "Loaded test subset with 10 images\n",
            "Loaded test subset with 10 images\n",
            "Training: 100%|███████████████████████████████████| 2/2 [00:38<00:00, 19.45s/it]\n",
            "Epoch: 0 \tTraining iou: 0.1914 \tValid iou: 0.0552\n",
            "Valid iou increased (0.0000 --> 0.0552). Model saved\n",
            "Training: 100%|███████████████████████████████████| 2/2 [00:38<00:00, 19.48s/it]\n",
            "Epoch: 1 \tTraining iou: 0.4443 \tValid iou: 0.1332\n",
            "Valid iou increased (0.0552 --> 0.1332). Model saved\n",
            "Training: 100%|███████████████████████████████████| 2/2 [00:38<00:00, 19.28s/it]\n",
            "Epoch: 2 \tTraining iou: 0.7164 \tValid iou: 0.1621\n",
            "Valid iou increased (0.1332 --> 0.1621). Model saved\n",
            "Training: 100%|███████████████████████████████████| 2/2 [00:39<00:00, 19.82s/it]\n",
            "Epoch: 3 \tTraining iou: 0.7484 \tValid iou: 0.3496\n",
            "Valid iou increased (0.1621 --> 0.3496). Model saved\n",
            "Training: 100%|███████████████████████████████████| 2/2 [00:39<00:00, 19.56s/it]\n",
            "Epoch: 4 \tTraining iou: 0.7841 \tValid iou: 0.4038\n",
            "Valid iou increased (0.3496 --> 0.4038). Model saved\n",
            "Training: 100%|███████████████████████████████████| 2/2 [00:39<00:00, 19.70s/it]\n",
            "Epoch: 5 \tTraining iou: 0.8108 \tValid iou: 0.3204\n",
            "Training: 100%|███████████████████████████████████| 2/2 [00:41<00:00, 20.56s/it]\n",
            "Epoch: 6 \tTraining iou: 0.8110 \tValid iou: 0.3336\n",
            "Training: 100%|███████████████████████████████████| 2/2 [00:38<00:00, 19.16s/it]\n",
            "Epoch: 7 \tTraining iou: 0.8026 \tValid iou: 0.4311\n",
            "Valid iou increased (0.4038 --> 0.4311). Model saved\n",
            "Training: 100%|███████████████████████████████████| 2/2 [00:37<00:00, 18.64s/it]\n",
            "Epoch: 8 \tTraining iou: 0.8449 \tValid iou: 0.6535\n",
            "Valid iou increased (0.4311 --> 0.6535). Model saved\n",
            "Training: 100%|███████████████████████████████████| 2/2 [00:47<00:00, 23.98s/it]\n",
            "Epoch: 9 \tTraining iou: 0.8374 \tValid iou: 0.6866\n",
            "Valid iou increased (0.6535 --> 0.6866). Model saved\n",
            "Training: 100%|███████████████████████████████████| 2/2 [00:40<00:00, 20.05s/it]\n",
            "Epoch: 10 \tTraining iou: 0.8626 \tValid iou: 0.6520\n",
            "Training: 100%|███████████████████████████████████| 2/2 [00:39<00:00, 19.79s/it]\n",
            "Epoch: 11 \tTraining iou: 0.8253 \tValid iou: 0.6242\n",
            "Training: 100%|███████████████████████████████████| 2/2 [00:39<00:00, 19.64s/it]\n",
            "Epoch: 12 \tTraining iou: 0.8573 \tValid iou: 0.6037\n",
            "Training: 100%|███████████████████████████████████| 2/2 [00:38<00:00, 19.32s/it]\n",
            "Epoch: 13 \tTraining iou: 0.8719 \tValid iou: 0.6861\n",
            "Training: 100%|███████████████████████████████████| 2/2 [00:37<00:00, 18.66s/it]\n",
            "Epoch: 14 \tTraining iou: 0.8775 \tValid iou: 0.6556\n",
            "Training: 100%|███████████████████████████████████| 2/2 [00:37<00:00, 18.82s/it]\n",
            "Epoch: 15 \tTraining iou: 0.8987 \tValid iou: 0.6987\n",
            "Valid iou increased (0.6866 --> 0.6987). Model saved\n",
            "Training: 100%|███████████████████████████████████| 2/2 [00:38<00:00, 19.35s/it]\n",
            "Epoch: 16 \tTraining iou: 0.8943 \tValid iou: 0.7201\n",
            "Valid iou increased (0.6987 --> 0.7201). Model saved\n",
            "Training: 100%|███████████████████████████████████| 2/2 [00:39<00:00, 19.54s/it]\n",
            "Epoch: 17 \tTraining iou: 0.8758 \tValid iou: 0.7570\n",
            "Valid iou increased (0.7201 --> 0.7570). Model saved\n",
            "Training: 100%|███████████████████████████████████| 2/2 [00:38<00:00, 19.21s/it]\n",
            "Epoch: 18 \tTraining iou: 0.8890 \tValid iou: 0.7939\n",
            "Valid iou increased (0.7570 --> 0.7939). Model saved\n",
            "Training: 100%|███████████████████████████████████| 2/2 [00:38<00:00, 19.18s/it]\n",
            "Epoch: 19 \tTraining iou: 0.9070 \tValid iou: 0.8305\n",
            "Valid iou increased (0.7939 --> 0.8305). Model saved\n",
            "Training: 100%|███████████████████████████████████| 2/2 [00:43<00:00, 21.79s/it]\n",
            "Epoch: 20 \tTraining iou: 0.8904 \tValid iou: 0.8150\n",
            "Training: 100%|███████████████████████████████████| 2/2 [00:39<00:00, 19.75s/it]\n",
            "Epoch: 21 \tTraining iou: 0.9182 \tValid iou: 0.8114\n",
            "Training: 100%|███████████████████████████████████| 2/2 [00:40<00:00, 20.26s/it]\n",
            "Epoch: 22 \tTraining iou: 0.9082 \tValid iou: 0.8321\n",
            "Valid iou increased (0.8305 --> 0.8321). Model saved\n",
            "Training: 100%|███████████████████████████████████| 2/2 [00:40<00:00, 20.11s/it]\n",
            "Epoch: 23 \tTraining iou: 0.9206 \tValid iou: 0.8750\n",
            "Valid iou increased (0.8321 --> 0.8750). Model saved\n",
            "Training: 100%|███████████████████████████████████| 2/2 [00:39<00:00, 19.87s/it]\n",
            "Epoch: 24 \tTraining iou: 0.9233 \tValid iou: 0.9016\n",
            "Valid iou increased (0.8750 --> 0.9016). Model saved\n",
            "Training: 100%|███████████████████████████████████| 2/2 [00:39<00:00, 19.97s/it]\n",
            "Epoch: 25 \tTraining iou: 0.9248 \tValid iou: 0.8778\n",
            "Training: 100%|███████████████████████████████████| 2/2 [00:41<00:00, 20.54s/it]\n",
            "Epoch: 26 \tTraining iou: 0.9057 \tValid iou: 0.8410\n",
            "Training: 100%|███████████████████████████████████| 2/2 [00:41<00:00, 20.71s/it]\n",
            "Epoch: 27 \tTraining iou: 0.9290 \tValid iou: 0.8724\n",
            "Training: 100%|███████████████████████████████████| 2/2 [00:40<00:00, 20.26s/it]\n",
            "Epoch: 28 \tTraining iou: 0.9288 \tValid iou: 0.9102\n",
            "Valid iou increased (0.9016 --> 0.9102). Model saved\n",
            "Training: 100%|███████████████████████████████████| 2/2 [00:40<00:00, 20.34s/it]\n",
            "Epoch: 29 \tTraining iou: 0.9336 \tValid iou: 0.9229\n",
            "Valid iou increased (0.9102 --> 0.9229). Model saved\n",
            "Training: 100%|███████████████████████████████████| 2/2 [00:39<00:00, 19.96s/it]\n",
            "Epoch: 30 \tTraining iou: 0.9353 \tValid iou: 0.9331\n",
            "Valid iou increased (0.9229 --> 0.9331). Model saved\n",
            "Training: 100%|███████████████████████████████████| 2/2 [00:44<00:00, 22.34s/it]\n",
            "Epoch: 31 \tTraining iou: 0.9386 \tValid iou: 0.9303\n",
            "Training: 100%|███████████████████████████████████| 2/2 [00:42<00:00, 21.13s/it]\n",
            "Epoch: 32 \tTraining iou: 0.9434 \tValid iou: 0.9281\n",
            "Training: 100%|███████████████████████████████████| 2/2 [00:40<00:00, 20.01s/it]\n",
            "Epoch: 33 \tTraining iou: 0.9330 \tValid iou: 0.9247\n",
            "Training: 100%|███████████████████████████████████| 2/2 [00:38<00:00, 19.32s/it]\n",
            "Epoch: 34 \tTraining iou: 0.9406 \tValid iou: 0.9257\n",
            "Training: 100%|███████████████████████████████████| 2/2 [00:37<00:00, 18.99s/it]\n",
            "Epoch: 35 \tTraining iou: 0.9425 \tValid iou: 0.9259\n",
            "Training: 100%|███████████████████████████████████| 2/2 [00:38<00:00, 19.38s/it]\n",
            "Epoch: 36 \tTraining iou: 0.9410 \tValid iou: 0.9365\n",
            "Valid iou increased (0.9331 --> 0.9365). Model saved\n",
            "Training: 100%|███████████████████████████████████| 2/2 [00:40<00:00, 20.04s/it]\n",
            "Epoch: 37 \tTraining iou: 0.9445 \tValid iou: 0.9435\n",
            "Valid iou increased (0.9365 --> 0.9435). Model saved\n",
            "Training: 100%|███████████████████████████████████| 2/2 [00:38<00:00, 19.48s/it]\n",
            "Epoch: 38 \tTraining iou: 0.9506 \tValid iou: 0.9488\n",
            "Valid iou increased (0.9435 --> 0.9488). Model saved\n",
            "Training: 100%|███████████████████████████████████| 2/2 [00:38<00:00, 19.39s/it]\n",
            "Epoch: 39 \tTraining iou: 0.9430 \tValid iou: 0.9463\n",
            "Training: 100%|███████████████████████████████████| 2/2 [00:38<00:00, 19.20s/it]\n",
            "Epoch: 40 \tTraining iou: 0.9516 \tValid iou: 0.9513\n",
            "Valid iou increased (0.9488 --> 0.9513). Model saved\n",
            "Training: 100%|███████████████████████████████████| 2/2 [00:38<00:00, 19.31s/it]\n",
            "Epoch: 41 \tTraining iou: 0.9486 \tValid iou: 0.9518\n",
            "Valid iou increased (0.9513 --> 0.9518). Model saved\n",
            "Training: 100%|███████████████████████████████████| 2/2 [00:45<00:00, 22.70s/it]\n",
            "Epoch: 42 \tTraining iou: 0.9504 \tValid iou: 0.9511\n",
            "Training: 100%|███████████████████████████████████| 2/2 [00:39<00:00, 19.58s/it]\n",
            "Epoch: 43 \tTraining iou: 0.9471 \tValid iou: 0.9489\n",
            "Training: 100%|███████████████████████████████████| 2/2 [00:38<00:00, 19.18s/it]\n",
            "Epoch: 44 \tTraining iou: 0.9335 \tValid iou: 0.9513\n",
            "Training: 100%|███████████████████████████████████| 2/2 [00:39<00:00, 19.63s/it]\n",
            "Epoch: 45 \tTraining iou: 0.9516 \tValid iou: 0.9420\n",
            "Training: 100%|███████████████████████████████████| 2/2 [00:39<00:00, 19.70s/it]\n",
            "Epoch: 46 \tTraining iou: 0.9523 \tValid iou: 0.9379\n",
            "Training: 100%|███████████████████████████████████| 2/2 [00:39<00:00, 19.68s/it]\n",
            "Epoch: 47 \tTraining iou: 0.9266 \tValid iou: 0.9486\n",
            "Training: 100%|███████████████████████████████████| 2/2 [00:39<00:00, 19.50s/it]\n",
            "Epoch: 48 \tTraining iou: 0.9554 \tValid iou: 0.9451\n",
            "Training: 100%|███████████████████████████████████| 2/2 [00:37<00:00, 18.89s/it]\n",
            "Epoch: 49 \tTraining iou: 0.9365 \tValid iou: 0.9519\n",
            "Valid iou increased (0.9518 --> 0.9519). Model saved\n",
            "Training: 100%|███████████████████████████████████| 2/2 [00:38<00:00, 19.01s/it]\n",
            "Epoch: 50 \tTraining iou: 0.9519 \tValid iou: 0.9453\n",
            "Training: 100%|███████████████████████████████████| 2/2 [00:37<00:00, 18.83s/it]\n",
            "Epoch: 51 \tTraining iou: 0.9418 \tValid iou: 0.9494\n",
            "Training: 100%|███████████████████████████████████| 2/2 [00:38<00:00, 19.11s/it]\n",
            "Epoch: 52 \tTraining iou: 0.9365 \tValid iou: 0.9479\n",
            "Training: 100%|███████████████████████████████████| 2/2 [00:43<00:00, 21.87s/it]\n",
            "Epoch: 53 \tTraining iou: 0.9543 \tValid iou: 0.9530\n",
            "Valid iou increased (0.9519 --> 0.9530). Model saved\n",
            "Training: 100%|███████████████████████████████████| 2/2 [00:40<00:00, 20.38s/it]\n",
            "Epoch: 54 \tTraining iou: 0.9392 \tValid iou: 0.9515\n",
            "Training: 100%|███████████████████████████████████| 2/2 [00:37<00:00, 18.93s/it]\n",
            "Epoch: 55 \tTraining iou: 0.9435 \tValid iou: 0.9528\n",
            "Training: 100%|███████████████████████████████████| 2/2 [00:37<00:00, 18.83s/it]\n",
            "Epoch: 56 \tTraining iou: 0.9549 \tValid iou: 0.9411\n",
            "Training: 100%|███████████████████████████████████| 2/2 [00:37<00:00, 18.92s/it]\n",
            "Epoch: 57 \tTraining iou: 0.9530 \tValid iou: 0.9397\n",
            "Training: 100%|███████████████████████████████████| 2/2 [00:38<00:00, 19.31s/it]\n",
            "Epoch: 58 \tTraining iou: 0.9533 \tValid iou: 0.9404\n",
            "Training: 100%|███████████████████████████████████| 2/2 [00:39<00:00, 19.53s/it]\n",
            "Epoch: 59 \tTraining iou: 0.9565 \tValid iou: 0.9522\n",
            "Training: 100%|███████████████████████████████████| 2/2 [00:38<00:00, 19.11s/it]\n",
            "Epoch: 60 \tTraining iou: 0.9577 \tValid iou: 0.9551\n",
            "Valid iou increased (0.9530 --> 0.9551). Model saved\n",
            "Training: 100%|███████████████████████████████████| 2/2 [00:38<00:00, 19.50s/it]\n",
            "Epoch: 61 \tTraining iou: 0.9574 \tValid iou: 0.9585\n",
            "Valid iou increased (0.9551 --> 0.9585). Model saved\n",
            "Training: 100%|███████████████████████████████████| 2/2 [00:38<00:00, 19.37s/it]\n",
            "Epoch: 62 \tTraining iou: 0.9540 \tValid iou: 0.9577\n",
            "Training: 100%|███████████████████████████████████| 2/2 [00:38<00:00, 19.35s/it]\n",
            "Epoch: 63 \tTraining iou: 0.9600 \tValid iou: 0.9603\n",
            "Valid iou increased (0.9585 --> 0.9603). Model saved\n",
            "Training: 100%|███████████████████████████████████| 2/2 [00:41<00:00, 20.51s/it]\n",
            "Epoch: 64 \tTraining iou: 0.9614 \tValid iou: 0.9608\n",
            "Valid iou increased (0.9603 --> 0.9608). Model saved\n",
            "Training: 100%|███████████████████████████████████| 2/2 [00:40<00:00, 20.36s/it]\n",
            "Epoch: 65 \tTraining iou: 0.9600 \tValid iou: 0.9626\n",
            "Valid iou increased (0.9608 --> 0.9626). Model saved\n",
            "Training: 100%|███████████████████████████████████| 2/2 [00:38<00:00, 19.41s/it]\n",
            "Epoch: 66 \tTraining iou: 0.9632 \tValid iou: 0.9619\n",
            "Training: 100%|███████████████████████████████████| 2/2 [00:38<00:00, 19.45s/it]\n",
            "Epoch: 67 \tTraining iou: 0.9580 \tValid iou: 0.9633\n",
            "Valid iou increased (0.9626 --> 0.9633). Model saved\n",
            "Training: 100%|███████████████████████████████████| 2/2 [00:39<00:00, 19.60s/it]\n",
            "Epoch: 68 \tTraining iou: 0.9525 \tValid iou: 0.9562\n",
            "Training: 100%|███████████████████████████████████| 2/2 [00:38<00:00, 19.20s/it]\n",
            "Epoch: 69 \tTraining iou: 0.9643 \tValid iou: 0.9601\n",
            "Training: 100%|███████████████████████████████████| 2/2 [00:38<00:00, 19.20s/it]\n",
            "Epoch: 70 \tTraining iou: 0.9616 \tValid iou: 0.9623\n",
            "Training: 100%|███████████████████████████████████| 2/2 [00:38<00:00, 19.17s/it]\n",
            "Epoch: 71 \tTraining iou: 0.9628 \tValid iou: 0.9641\n",
            "Valid iou increased (0.9633 --> 0.9641). Model saved\n",
            "Training: 100%|███████████████████████████████████| 2/2 [00:39<00:00, 19.56s/it]\n",
            "Epoch: 72 \tTraining iou: 0.9631 \tValid iou: 0.9580\n",
            "Training: 100%|███████████████████████████████████| 2/2 [00:39<00:00, 19.64s/it]\n",
            "Epoch: 73 \tTraining iou: 0.9628 \tValid iou: 0.9632\n",
            "Training: 100%|███████████████████████████████████| 2/2 [00:39<00:00, 19.71s/it]\n",
            "Epoch: 74 \tTraining iou: 0.9650 \tValid iou: 0.9650\n",
            "Valid iou increased (0.9641 --> 0.9650). Model saved\n",
            "Training: 100%|███████████████████████████████████| 2/2 [00:39<00:00, 19.62s/it]\n",
            "Epoch: 75 \tTraining iou: 0.9633 \tValid iou: 0.9650\n",
            "Valid iou increased (0.9650 --> 0.9650). Model saved\n",
            "Training: 100%|███████████████████████████████████| 2/2 [00:40<00:00, 20.10s/it]\n",
            "Epoch: 76 \tTraining iou: 0.9629 \tValid iou: 0.9600\n",
            "Training: 100%|███████████████████████████████████| 2/2 [00:38<00:00, 19.40s/it]\n",
            "Epoch: 77 \tTraining iou: 0.9608 \tValid iou: 0.9653\n",
            "Valid iou increased (0.9650 --> 0.9653). Model saved\n",
            "Training: 100%|███████████████████████████████████| 2/2 [00:39<00:00, 19.53s/it]\n",
            "Epoch: 78 \tTraining iou: 0.9647 \tValid iou: 0.9648\n",
            "Training: 100%|███████████████████████████████████| 2/2 [00:39<00:00, 19.70s/it]\n",
            "Epoch: 79 \tTraining iou: 0.9639 \tValid iou: 0.9662\n",
            "Valid iou increased (0.9653 --> 0.9662). Model saved\n",
            "Training: 100%|███████████████████████████████████| 2/2 [00:39<00:00, 19.94s/it]\n",
            "Epoch: 80 \tTraining iou: 0.9636 \tValid iou: 0.9626\n",
            "Training: 100%|███████████████████████████████████| 2/2 [00:39<00:00, 19.62s/it]\n",
            "Epoch: 81 \tTraining iou: 0.9636 \tValid iou: 0.9653\n",
            "Training: 100%|███████████████████████████████████| 2/2 [00:39<00:00, 19.57s/it]\n",
            "Epoch: 82 \tTraining iou: 0.9620 \tValid iou: 0.9636\n",
            "Training: 100%|███████████████████████████████████| 2/2 [00:38<00:00, 19.40s/it]\n",
            "Epoch: 83 \tTraining iou: 0.9673 \tValid iou: 0.9632\n",
            "Training: 100%|███████████████████████████████████| 2/2 [00:37<00:00, 18.79s/it]\n",
            "Epoch: 84 \tTraining iou: 0.9661 \tValid iou: 0.9651\n",
            "Training: 100%|███████████████████████████████████| 2/2 [00:37<00:00, 18.77s/it]\n",
            "Epoch: 85 \tTraining iou: 0.9661 \tValid iou: 0.9677\n",
            "Valid iou increased (0.9662 --> 0.9677). Model saved\n",
            "Training: 100%|███████████████████████████████████| 2/2 [00:38<00:00, 19.05s/it]\n",
            "Epoch: 86 \tTraining iou: 0.9663 \tValid iou: 0.9644\n",
            "Training: 100%|███████████████████████████████████| 2/2 [00:40<00:00, 20.39s/it]\n",
            "Epoch: 87 \tTraining iou: 0.9674 \tValid iou: 0.9657\n",
            "Training: 100%|███████████████████████████████████| 2/2 [00:38<00:00, 19.43s/it]\n",
            "Epoch: 88 \tTraining iou: 0.9660 \tValid iou: 0.9666\n",
            "Training: 100%|███████████████████████████████████| 2/2 [00:39<00:00, 19.79s/it]\n",
            "Epoch: 89 \tTraining iou: 0.9673 \tValid iou: 0.9676\n",
            "Training: 100%|███████████████████████████████████| 2/2 [00:39<00:00, 19.68s/it]\n",
            "Epoch: 90 \tTraining iou: 0.9693 \tValid iou: 0.9696\n",
            "Valid iou increased (0.9677 --> 0.9696). Model saved\n",
            "Training: 100%|███████████████████████████████████| 2/2 [00:39<00:00, 19.75s/it]\n",
            "Epoch: 91 \tTraining iou: 0.9678 \tValid iou: 0.9725\n",
            "Valid iou increased (0.9696 --> 0.9725). Model saved\n",
            "Training: 100%|███████████████████████████████████| 2/2 [00:38<00:00, 19.37s/it]\n",
            "Epoch: 92 \tTraining iou: 0.9721 \tValid iou: 0.9687\n",
            "Training: 100%|███████████████████████████████████| 2/2 [00:37<00:00, 18.77s/it]\n",
            "Epoch: 93 \tTraining iou: 0.9721 \tValid iou: 0.9700\n",
            "Training: 100%|███████████████████████████████████| 2/2 [00:37<00:00, 18.51s/it]\n",
            "Epoch: 94 \tTraining iou: 0.9690 \tValid iou: 0.9714\n",
            "Training: 100%|███████████████████████████████████| 2/2 [00:37<00:00, 18.94s/it]\n",
            "Epoch: 95 \tTraining iou: 0.9715 \tValid iou: 0.9717\n",
            "Training: 100%|███████████████████████████████████| 2/2 [00:38<00:00, 19.37s/it]\n",
            "Epoch: 96 \tTraining iou: 0.9677 \tValid iou: 0.9708\n",
            "Training: 100%|███████████████████████████████████| 2/2 [00:38<00:00, 19.23s/it]\n",
            "Epoch: 97 \tTraining iou: 0.9667 \tValid iou: 0.9686\n",
            "Training: 100%|███████████████████████████████████| 2/2 [00:45<00:00, 22.71s/it]\n",
            "Epoch: 98 \tTraining iou: 0.9713 \tValid iou: 0.9720\n",
            "Training: 100%|███████████████████████████████████| 2/2 [00:38<00:00, 19.20s/it]\n",
            "Epoch: 99 \tTraining iou: 0.9715 \tValid iou: 0.9729\n",
            "Valid iou increased (0.9725 --> 0.9729). Model saved\n"
          ]
        }
      ]
    },
    {
      "cell_type": "markdown",
      "source": [
        "# testing\n",
        "    tạo bản sao: unet_resnet18_epoch_99_iou_0.9729.pt và di chuyển bản sao đến test folder"
      ],
      "metadata": {
        "id": "A1quMbifHJmk"
      }
    },
    {
      "cell_type": "markdown",
      "source": [
        "# Edit test.py\n",
        "    Line 67:\n",
        "    sửa đổi tên tập tin unet_resnet18_epoch_7_iou_0.9624.pt thành unet_resnet18_epoch_99_iou_0.9729.pt\n",
        "\n",
        "    line : 74\n",
        "# 2. Create a segmentation model, then load the trained weights\n",
        "    import segmentation_models_pytorch as smp\n",
        "    model = smp.Unet(encoder_name='resnet18', in_channels=3, classes=2).to(device)\n",
        "    # so class = hongcau+ background (phan con lai khong annotate)"
      ],
      "metadata": {
        "id": "6te8WFYuHtNh"
      }
    },
    {
      "cell_type": "markdown",
      "source": [
        "# Tạo các folder:\n",
        "    utils: copy visualize, metrics, iris_dataset to here\n",
        "    output: không có nội dung\n",
        "    inputs: các hình chưa được train để thử"
      ],
      "metadata": {
        "id": "apMQkg8NIuo6"
      }
    },
    {
      "cell_type": "markdown",
      "source": [
        "# install requirement"
      ],
      "metadata": {
        "id": "gPd6Nx6OIBD8"
      }
    },
    {
      "cell_type": "code",
      "source": [
        "%cd /content/drive/MyDrive/DemHongCau/segmentation/test/\n",
        "%pip install -r requirements.txt"
      ],
      "metadata": {
        "colab": {
          "base_uri": "https://localhost:8080/"
        },
        "id": "MrKkyXtxH7VH",
        "outputId": "dece84aa-502c-4107-e2ca-895d8a6ef22d"
      },
      "execution_count": null,
      "outputs": [
        {
          "output_type": "stream",
          "name": "stdout",
          "text": [
            "/content/drive/MyDrive/DemHongCau/segmentation/test\n",
            "Collecting absl-py==0.10.0 (from -r requirements.txt (line 1))\n",
            "  Using cached absl_py-0.10.0-py3-none-any.whl (127 kB)\n",
            "Collecting addict==2.4.0 (from -r requirements.txt (line 2))\n",
            "  Using cached addict-2.4.0-py3-none-any.whl (3.8 kB)\n",
            "Collecting argon2-cffi==20.1.0 (from -r requirements.txt (line 3))\n",
            "  Using cached argon2_cffi-20.1.0-cp35-abi3-manylinux1_x86_64.whl (97 kB)\n",
            "Collecting astor==0.8.1 (from -r requirements.txt (line 4))\n",
            "  Using cached astor-0.8.1-py2.py3-none-any.whl (27 kB)\n",
            "Collecting async-generator==1.10 (from -r requirements.txt (line 5))\n",
            "  Using cached async_generator-1.10-py3-none-any.whl (18 kB)\n",
            "Collecting attrs==20.2.0 (from -r requirements.txt (line 6))\n",
            "  Using cached attrs-20.2.0-py2.py3-none-any.whl (48 kB)\n",
            "Requirement already satisfied: backcall==0.2.0 in /usr/local/lib/python3.10/dist-packages (from -r requirements.txt (line 7)) (0.2.0)\n",
            "Collecting bleach==3.2.1 (from -r requirements.txt (line 8))\n",
            "  Using cached bleach-3.2.1-py2.py3-none-any.whl (145 kB)\n",
            "Collecting cachetools==4.1.1 (from -r requirements.txt (line 9))\n",
            "  Using cached cachetools-4.1.1-py3-none-any.whl (10 kB)\n",
            "Collecting certifi==2020.6.20 (from -r requirements.txt (line 10))\n",
            "  Using cached certifi-2020.6.20-py2.py3-none-any.whl (156 kB)\n",
            "Collecting cffi==1.14.3 (from -r requirements.txt (line 11))\n",
            "  Using cached cffi-1.14.3.tar.gz (470 kB)\n",
            "  Preparing metadata (setup.py) ... \u001b[?25l\u001b[?25hdone\n",
            "Collecting chardet==3.0.4 (from -r requirements.txt (line 12))\n",
            "  Using cached chardet-3.0.4-py2.py3-none-any.whl (133 kB)\n",
            "Collecting configobj==5.0.6 (from -r requirements.txt (line 13))\n",
            "  Using cached configobj-5.0.6.tar.gz (33 kB)\n",
            "  Preparing metadata (setup.py) ... \u001b[?25l\u001b[?25hdone\n",
            "Collecting cycler==0.10.0 (from -r requirements.txt (line 14))\n",
            "  Using cached cycler-0.10.0-py2.py3-none-any.whl (6.5 kB)\n",
            "\u001b[31mERROR: Ignored the following versions that require a different python version: 0.7 Requires-Python >=3.6, <3.7; 0.8 Requires-Python >=3.6, <3.7\u001b[0m\u001b[31m\n",
            "\u001b[0m\u001b[31mERROR: Could not find a version that satisfies the requirement dataclasses==0.8 (from versions: 0.1, 0.2, 0.3, 0.4, 0.5, 0.6)\u001b[0m\u001b[31m\n",
            "\u001b[0m\u001b[31mERROR: No matching distribution found for dataclasses==0.8\u001b[0m\u001b[31m\n",
            "\u001b[0m"
          ]
        }
      ]
    },
    {
      "cell_type": "markdown",
      "source": [
        "# testing..."
      ],
      "metadata": {
        "id": "pqNSQcF0IMow"
      }
    },
    {
      "cell_type": "code",
      "source": [
        "!python test.py -i inputs/2022-08-16-BF2-D32-GS-1M-25M-0110.jpg\n",
        "!python test.py -i inputs/2022-08-16-BF2-D32-GS-1M-25M-0109.jpg\n",
        "!python test.py -i inputs/2022-08-16-BF2-D32-GS-1M-25M-0108.jpg\n",
        "!python test.py -i inputs/2022-08-16-BF2-D32-GS-1M-25M-0107.jpg\n",
        "!python test.py -i inputs/2022-08-16-BF2-D32-GS-1M-25M-0106.jpg\n",
        "!python test.py -i inputs/2022-08-16-BF2-D32-GS-1M-25M-0105.jpg\n",
        "!python test.py -i inputs/2022-08-16-BF2-D32-GS-1M-25M-0104.jpg"
      ],
      "metadata": {
        "colab": {
          "base_uri": "https://localhost:8080/"
        },
        "id": "B4XsZzqCIO5o",
        "outputId": "c5302551-b890-42f7-d330-977a4dd6abf6"
      },
      "execution_count": null,
      "outputs": [
        {
          "output_type": "stream",
          "name": "stdout",
          "text": [
            "The segmentation model has been loaded.\n",
            "File: 2022-08-16-BF2-D32-GS-1M-25M-0110.jpg done\n",
            "The segmentation model has been loaded.\n",
            "File: 2022-08-16-BF2-D32-GS-1M-25M-0109.jpg done\n",
            "The segmentation model has been loaded.\n",
            "File: 2022-08-16-BF2-D32-GS-1M-25M-0108.jpg done\n",
            "The segmentation model has been loaded.\n",
            "File: 2022-08-16-BF2-D32-GS-1M-25M-0107.jpg done\n",
            "The segmentation model has been loaded.\n",
            "File: 2022-08-16-BF2-D32-GS-1M-25M-0106.jpg done\n",
            "The segmentation model has been loaded.\n",
            "File: 2022-08-16-BF2-D32-GS-1M-25M-0105.jpg done\n",
            "The segmentation model has been loaded.\n",
            "File: 2022-08-16-BF2-D32-GS-1M-25M-0104.jpg done\n"
          ]
        }
      ]
    }
  ]
}